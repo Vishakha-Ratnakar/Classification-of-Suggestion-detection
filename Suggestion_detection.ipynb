{
  "nbformat": 4,
  "nbformat_minor": 0,
  "metadata": {
    "colab": {
      "name": "Suggestion detection.ipynb",
      "provenance": [],
      "collapsed_sections": []
    },
    "kernelspec": {
      "name": "python3",
      "display_name": "Python 3"
    },
    "language_info": {
      "name": "python"
    }
  },
  "cells": [
    {
      "cell_type": "markdown",
      "metadata": {
        "id": "ZCWSEtNeGMsN"
      },
      "source": [
        "\n",
        "# **This assignment involves tasks for feature engineering, training and evaluating a classifier for suggestion detection**\n"
      ]
    },
    {
      "cell_type": "markdown",
      "source": [
        "\n",
        "This assignment involves tasks for feature engineering, training and evaluating a classifier for suggestion detection. \n",
        "\n",
        "\n",
        "The CSV file contains a header row followed by 6,100 rows spread across 3 columns of data. Each row of data contains a unique id, a piece of text and a label assigned by an annotator. A label of  1  indicates that the given text contains a suggestion while a label of  0  indicates that the text does not contain a suggestion.\n",
        "\n",
        "You can find more details about the dataset in Sections 1, 2, 3 and 4 of SemEval-2019 Task 9: Suggestion Mining from Online Reviews and Forums ."
      ],
      "metadata": {
        "id": "cOPLm62dNP4b"
      }
    },
    {
      "cell_type": "code",
      "metadata": {
        "id": "g3PrRwfwGON1"
      },
      "source": [
        "# !curl \"https://raw.githubusercontent.com/pasricha/Subtask-A/master/Data.Assignment2.SemEvalTask9SubtaskA.csv\" > Data.Assignment2.SemEvalTask9SubtaskA.csv"
      ],
      "execution_count": 1,
      "outputs": []
    },
    {
      "cell_type": "markdown",
      "metadata": {
        "id": "RohgBTdkHX0Z"
      },
      "source": [
        "---\n",
        "\n",
        "## Task 1: Reading Data \n",
        "\n",
        "The following cell of code reads the texts and the corresponding labels of suggestion/non-suggestion from the CSV file. The first task is to create training and test sets. Use the final $1000$ rows of the data as a test set and the rest of the data for training."
      ]
    },
    {
      "cell_type": "code",
      "metadata": {
        "id": "5x0c38rCGk23"
      },
      "source": [
        "import numpy as np\n",
        "import pandas as pd\n",
        "\n",
        "# Read the CSV file.\n",
        "df = pd.read_csv(\"https://raw.githubusercontent.com/pasricha/Subtask-A/master/Data.Assignment2.SemEvalTask9SubtaskA.csv\", \n",
        "                 names=['id', 'text', 'label'], header=0)\n",
        "\n",
        "# Set seed for reproducibility and shuffle the rows.\n",
        "np.random.seed(888)\n",
        "df = df.sample(frac=1).reset_index(drop=True)\n",
        "\n",
        "# Store the data as a list of tuples where the first item is the text\n",
        "# and the second item is the label.\n",
        "data = [(text, label) for (idx, text, label) in df.values.tolist()]\n",
        "\n",
        "# Create training and test sets.\n",
        "train_texts, train_labels = [], []\n",
        "test_texts, test_labels = [], []\n",
        "\n",
        "#################### EDIT BELOW THIS LINE #########################\n",
        "\n",
        "# your code goes here\n",
        "train_number = data[:5100]\n",
        "train_texts, train_labels = [text for text, label in train_number], [label for text, label in train_number]\n",
        "test_numbers = data[5100:]\n",
        "test_texts, test_labels = [text for text, label in test_numbers], [label for text, label in test_numbers]\n",
        "#################### EDIT ABOVE THIS LINE #########################\n",
        "\n",
        "# Check that training set and test set are of the right size.\n",
        "assert len(test_texts) == len(test_labels) == 1000\n",
        "assert len(train_texts) == len(train_labels) == 5100"
      ],
      "execution_count": 2,
      "outputs": []
    },
    {
      "cell_type": "markdown",
      "metadata": {
        "id": "I_Scj45oSpdQ"
      },
      "source": [
        "---\n",
        "\n",
        "## Task 2: Data Pre-processing \n",
        "\n",
        "Explain at least 3 steps that you will perform to preprocess the texts before training a classifier."
      ]
    },
    {
      "cell_type": "markdown",
      "metadata": {
        "id": "ROipkmu1cnN_"
      },
      "source": [
        "\n",
        "---\n",
        "\n",
        "1.\tConvert to Lower case\n",
        "\n",
        "The lower casing is a general text processing technique. The Python language is case sensitive; therefore \"language\" and \"Language\" are two distinct terms. All of the input text is converted to the same case format, so \"LanGUage,\" \"LanGuaGE,\" and \"language\" are all treated the same. This allows you to group similar terms together, reducing repetition and ensuring consistency in text mining.\n",
        "\n",
        "We'll utilize the lower() method for this. It lowercases each capital letter while keeping lowercase words the same.\n",
        "2.\tRemoving Punctuations\n",
        "\n",
        "The elimination of punctuation from the text is another text pre-processing approach. This again helps to treat “language” and “language!!!” in the same manner. This process is carried out with the string package. There are 32 punctuations in total. \n",
        "\n",
        "‘!\"#$%&'()*+,-./:;<=>?@[]^_`{|}~'\n",
        "\n",
        "Python has a string. punctuation constant that returns a long list of punctuated characters. When using the frequency of occurrence of words, not eliminating punctuation can have an impact on the result. Because we are using TF-IDF as a feature that is completely based on the frequency of occurrences, we removed the punctuations.\n",
        "3.\tLemmatization\n",
        "\n",
        "Different inflected forms of words are grouped into a single root base form through lemmatization. It's similar to stemming, but it adds the context of the words. For example, runs, running, ran are all forms of word run, therefore run is the lemma of all these words.\n",
        "\n",
        "Python NLTK provides WordNetLemmatizer that uses a wordnet database to lookup for lemma words. It is necessary to provide the context in which you want to lemmatize. This context is given by part-of-speech. In suggestion detection, a grouping of words into a single root reduces the number of features which in turn reduces the processing time.\n",
        "\n",
        "\n",
        "\n",
        "\n",
        "---"
      ]
    },
    {
      "cell_type": "code",
      "metadata": {
        "id": "Jb7i3Le4aSYM",
        "colab": {
          "base_uri": "https://localhost:8080/"
        },
        "outputId": "c41c932b-6b11-46f1-85e8-ca4f9d43f7e5"
      },
      "source": [
        "# your code goes here\n",
        "import string\n",
        "import nltk\n",
        "from nltk.stem import WordNetLemmatizer\n",
        "nltk.download('wordnet')\n",
        "\n",
        "#---------------Converting training and test text into data frame--------------#\n",
        "train_text_df = pd.DataFrame()\n",
        "train_text_df[\"text\"] = train_texts\n",
        "test_text_df = pd.DataFrame()\n",
        "test_text_df[\"text\"] = test_texts\n",
        "\n",
        "#---------------Convert to Lower case------------------------------------------#\n",
        "train_text_df['text'] = train_text_df['text'].str.lower()\n",
        "test_text_df['text'] = test_text_df['text'].str.lower()\n",
        "\n",
        "#---------------Punctuation removal--------------------------------------------#\n",
        "def remove_punctuations(text):\n",
        "    for punctuation in string.punctuation:\n",
        "      text = text.replace(punctuation, '')\n",
        "    return text\n",
        "\n",
        "train_text_df['text'] = train_text_df['text'].apply(remove_punctuations)\n",
        "test_text_df['text'] = test_text_df['text'].apply(remove_punctuations)\n",
        "\n",
        "#--------------Lemmatization---------------------------------------------------#\n",
        "lemmatizer = WordNetLemmatizer()\n",
        "def lemmatize_words(text):\n",
        "    return \" \".join([lemmatizer.lemmatize(word,pos='v') for word in text.split()])\n",
        "\n",
        "train_text_df[\"text\"] = train_text_df[\"text\"].apply(lambda text: lemmatize_words(text))\n",
        "test_text_df[\"text\"] = test_text_df[\"text\"].apply(lambda text: lemmatize_words(text))\n",
        "\n",
        "\n",
        "train_text_df['text'] = train_text_df['text'].str.strip()\n",
        "test_text_df['text'] = test_text_df['text'].str.strip()\n",
        "\n",
        "\n"
      ],
      "execution_count": 3,
      "outputs": [
        {
          "output_type": "stream",
          "name": "stdout",
          "text": [
            "[nltk_data] Downloading package wordnet to /root/nltk_data...\n",
            "[nltk_data]   Unzipping corpora/wordnet.zip.\n"
          ]
        }
      ]
    },
    {
      "cell_type": "markdown",
      "metadata": {
        "id": "3IUJunnfXItQ"
      },
      "source": [
        "---\n",
        "\n",
        "## Task 3: Feature Engineering (I) - TF-IDF as features\n"
      ]
    },
    {
      "cell_type": "code",
      "metadata": {
        "id": "3gDsfB8xTGMg",
        "collapsed": true,
        "colab": {
          "base_uri": "https://localhost:8080/"
        },
        "outputId": "6ecca255-1512-4c05-cf9a-ecfcf3461bc4"
      },
      "source": [
        "from sklearn.feature_extraction.text import CountVectorizer\n",
        "from sklearn.feature_extraction.text import TfidfTransformer\n",
        "\n",
        "from sklearn.naive_bayes import GaussianNB\n",
        "\n",
        "# Calculate tf-idf scores for the words in the training set.\n",
        "# ... your code goes here\n",
        "X_train = train_text_df[\"text\"]\n",
        "y_train = train_labels\n",
        "X_test = test_text_df[\"text\"]\n",
        "y_test = test_labels\n",
        "\n",
        "count_vect = CountVectorizer()\n",
        "tfidf_transformer = TfidfTransformer()\n",
        "\n",
        "X_train_counts = count_vect.fit_transform(X_train) \n",
        "X_train_tfidf = tfidf_transformer.fit_transform(X_train_counts)\n",
        "\n",
        "X_test_counts = count_vect.transform(X_test)\n",
        "X_test_tfidf = tfidf_transformer.transform(X_test_counts)\n",
        "\n",
        "\n",
        "# Train a Naïve Bayes classifier using the tf-idf scores for words as features.\n",
        "# ... your code goes here\n",
        "GNB_classifier_feature_tfidf = GaussianNB()\n",
        "GNB_classifier_feature_tfidf.fit(X_train_tfidf.toarray(), y_train)\n",
        "\n",
        "\n",
        "# Predict on the test set.\n",
        "predictions = []    # save your predictions on the test set into this list\n",
        "\n",
        "# ... your code goes here\n",
        "predictions = GNB_classifier_feature_tfidf.predict(X_test_tfidf.toarray())\n",
        "\n",
        "#################### DO NOT EDIT BELOW THIS LINE #################\n",
        "\n",
        "def accuracy(labels, predictions):\n",
        "  '''\n",
        "  Calculate the accuracy score for a given set of predictions and labels.\n",
        "  \n",
        "  Args:\n",
        "    labels (list): A list containing gold standard labels annotated as `0` and `1`.\n",
        "    predictions (list): A list containing predictions annotated as `0` and `1`.\n",
        "\n",
        "  Returns:\n",
        "    float: A floating point value to score the predictions against the labels.\n",
        "  '''\n",
        "\n",
        "  assert len(labels) == len(predictions)\n",
        "\n",
        "  correct = 0\n",
        "  for label, prediction in zip(labels, predictions):\n",
        "    if label == prediction:\n",
        "      correct += 1 \n",
        "  \n",
        "  score = correct / len(labels)\n",
        "  return score\n",
        "\n",
        "# Calculate accuracy score for the classifier using tf-idf features.\n",
        "accuracy(test_labels, predictions)"
      ],
      "execution_count": 4,
      "outputs": [
        {
          "output_type": "execute_result",
          "data": {
            "text/plain": [
              "0.515"
            ]
          },
          "metadata": {},
          "execution_count": 4
        }
      ]
    },
    {
      "cell_type": "markdown",
      "metadata": {
        "id": "DDx_M2aTIncl"
      },
      "source": [
        "---\n",
        "\n",
        "## Task 4: Evaluation Metrics\n",
        "\n",
        "Why is accuracy not the best measure for evaluating a classifier? Describe an evaluation metric which might work better than accuracy for a classification task such as suggestion detection.\n"
      ]
    },
    {
      "cell_type": "markdown",
      "metadata": {
        "id": "1evdGdZf66Aw"
      },
      "source": [
        "\n",
        "\n",
        "---\n",
        "\n",
        "Accuracy is calculated as \n",
        " \n",
        "The accuracy score is determined by how well-balanced the data is. For instance, if we have a dataset with two classes, balanced data means we have 50% data for each class or even a range of 60% and 40% data that does not result in a substantial drop in performance. The dataset provided for text classification is imbalanced.  There are 4015 items with label 0 and 2085 with label 1. The accuracy score does not bring out the classification that we require because the dataset is unbalanced. As a result, we employ a precision score. \n",
        "\n",
        "![accuray.png](data:image/png;base64,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)\n",
        "Precision score denotes the proportion of correctly identified positive classes among all predicated positive classes i.e. the proportion\n",
        "of identification that was correct. \n",
        "\n",
        "![image.png](data:image/png;base64,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)\n",
        "\n",
        "\n",
        "As a result, it calculates the minority class's accuracy. In the model given sentence with non-suggestion is classified as a suggestion.\n",
        "\n",
        "\n",
        "---"
      ]
    },
    {
      "cell_type": "code",
      "metadata": {
        "id": "UkUX5K0oMhKI",
        "colab": {
          "base_uri": "https://localhost:8080/"
        },
        "outputId": "5ce015bf-439d-4a62-8033-2386f69f02f2"
      },
      "source": [
        "def evaluate(labels, predictions):\n",
        "  '''\n",
        "  Calculate an evaluation score other than accuracy for a given set of predictions and labels.\n",
        "  \n",
        "  Args:\n",
        "    labels (list): A list containing gold standard labels annotated as `0` and `1`.\n",
        "    predictions (list): A list containing predictions annotated as `0` and `1`.\n",
        "\n",
        "  Returns:\n",
        "    float: A floating point value to score the predictions against the labels.\n",
        "  '''\n",
        "\n",
        "  # check that labels and predictions are of same length\n",
        "  assert len(labels) == len(predictions)\n",
        "\n",
        "  score = 0.0\n",
        "  \n",
        "  #################### EDIT BELOW THIS LINE #########################\n",
        "\n",
        "  # your code goes here\n",
        "  from sklearn.metrics import precision_score\n",
        "  score=precision_score(y_test, predictions)\n",
        "\n",
        "  #################### EDIT ABOVE THIS LINE #########################\n",
        "\n",
        "  return score\n",
        "\n",
        "# Calculate evaluation score based on the metric of your choice\n",
        "# for the classifier trained in Task 3 using tf-idf features.\n",
        "evaluate(test_labels, predictions)"
      ],
      "execution_count": 5,
      "outputs": [
        {
          "output_type": "execute_result",
          "data": {
            "text/plain": [
              "0.4008941877794337"
            ]
          },
          "metadata": {},
          "execution_count": 5
        }
      ]
    },
    {
      "cell_type": "markdown",
      "metadata": {
        "id": "22OelF89a27J"
      },
      "source": [
        "---\n",
        "\n",
        "## Task 5: Feature Engineering (II) \n",
        "\n",
        "Describe features other than those defined in Task 3 which might improve the performance of your suggestion detector. If these features require any additional pre-processing steps, then define those steps as well.\n"
      ]
    },
    {
      "cell_type": "markdown",
      "metadata": {
        "id": "XQT0m3vG7bNc"
      },
      "source": [
        "\n",
        "---\n",
        "For increasing the performance of the suggestion detector, we have used a TF-IDF vectorizer with bigram.\n",
        "\n",
        "An N-gram is a collection of sequences of words in a sentence. Where N is a positive integer indicating the number of words in the sequence. N gram with N = 1 is called a unigram. Similarly, N = 2 is a bigram, and N = 3 is a trigram.\n",
        "\n",
        "An N-gram is a type of language model which helps in finding the probability distribution over a word sequence. For example, the sentence is \"This would be ease of use\". If we consider N = 1, we would get the sequence as [‘This’, ‘would’, ‘be’, ‘ease’, ‘of’, ‘use’]. If N = 2, it will have a sequence of 2 words [‘This would’, ‘would be’, ‘be ease’, ‘ease of’, ‘of use’].\n",
        "\n",
        "TF -IDF calculates the term frequency and inverse document frequency for a collection of raw documents and converts them into a TF- IDF feature matrix. This feature matrix is then used to train the model using a naive Bayes classifier. For example: \"The store listings are not editable for all my applications.\" The features we obtain after computing the TF-IDF are \"The\", \"store\", \"listings\", \"are\", \"not\", \"editable\", \"for\", \"all\", \"my\", \"applications\".\n",
        "\n",
        "The main flaw is that it does not take into consideration the context of words. Pairs of consecutive words may capture structure that isn't visible when counting single words, and they may provide context that helps tokens make more sense. For example, \"San Francisco\" represents a detailed meaning only when they are grouped together; \"San\" and \"Francisco\" do not provide a proper meaning. This can be accomplished by combining n-gram with TF -IDF to provide more helpful features for suggestion detection, as context or details of a sentence play an important role. Therefore, our sentence would now become \"The store\", \"store listings\", \"listings are\", \"are not\", \"not editable\", \"editable for\", \"for all\", \"all my\", \"my applications\".\n",
        "\n",
        "Bigram enhances the likelihood of discovering two words that are similar, resulting in a higher TF - IDF score for features. This also aids the naive Bayes model in NLP to produce better probability outputs.\n",
        "We are using TF-IDF vectorizer instead of CountVectorizer. With tfidfVecortizer, we pass the n_gram parameter to achieve better performance. We have passed 4 parameters in tfidfvectorizer.\n",
        "\n",
        "1.\tAnalyzer = ‘word’\n",
        "2.\tToken pattern\n",
        "3.\tn_gram range: n_gram range(min_n,max_n) extracts the minimum and maximum range of n-values for various n-grams. Because we specified n_gram range = (2,2), it will be treated as a bigram.\n",
        "4.\tuse_idf: By default, use_idf is set to true. This implies that the inverse document frequency weighing should be considered.\n",
        "\n",
        "Without passing n-gram, we were able to attain a precision score of 40% using CountVectorizer. It has increased by more than 11% after using the TF-IDF vectorizer in conjunction with Bigram. As a result, it can be shown that grouping consecutive words together provides contextual meaning, which aids in determining whether a statement is a suggestion or not.\n",
        "\n",
        "\n",
        "---"
      ]
    },
    {
      "cell_type": "code",
      "metadata": {
        "id": "u9mRku0va8kK",
        "colab": {
          "base_uri": "https://localhost:8080/"
        },
        "outputId": "5abefb8d-a28f-4500-dcb6-9c1d267669c9"
      },
      "source": [
        "# Create your features.\n",
        "# ... your code goes here\n",
        "from sklearn.feature_extraction.text import TfidfVectorizer\n",
        "from sklearn.feature_extraction.text import TfidfTransformer\n",
        "from sklearn.naive_bayes import GaussianNB\n",
        "\n",
        "tfidf_vect_ngram = TfidfVectorizer(analyzer='word',token_pattern=r'\\w{1,}',ngram_range=(2,2),use_idf=True)\n",
        "tfidf_vect_ngram.fit(train_text_df[\"text\"])\n",
        "\n",
        "X_train_tfidf_ngram =  tfidf_vect_ngram.transform(X_train)\n",
        "X_test_tfidf_ngram =  tfidf_vect_ngram.transform(X_test)\n",
        "\n",
        "\n",
        "# Train a Naïve Bayes classifier using the features you defined.\n",
        "# ... your code goes here\n",
        "NB_classifier_tfidf = GaussianNB()\n",
        "NB_classifier_tfidf.fit(X_train_tfidf_ngram.toarray(), y_train)\n",
        "\n",
        "# Evaluate on the test set.\n",
        "# ... your code goes here\n",
        "predictions = NB_classifier_tfidf.predict(X_test_tfidf_ngram.toarray())\n",
        "print(evaluate(test_labels, predictions)) # calulate precision score"
      ],
      "execution_count": 6,
      "outputs": [
        {
          "output_type": "stream",
          "name": "stdout",
          "text": [
            "0.515\n"
          ]
        }
      ]
    }
  ]
}